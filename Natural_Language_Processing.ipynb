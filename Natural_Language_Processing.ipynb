{
  "nbformat": 4,
  "nbformat_minor": 0,
  "metadata": {
    "colab": {
      "provenance": []
    },
    "kernelspec": {
      "name": "python3",
      "display_name": "Python 3"
    },
    "language_info": {
      "name": "python"
    }
  },
  "cells": [
    {
      "cell_type": "markdown",
      "source": [
        "# **<font color='orange'><b>Natural Language Processing (NLP)</b></font> - <font color='white'>Natural language processing (NLP) is a subfield of computer science and Artificial Intelligence (AI) that enables computers to understand and communicate with human language.</font>**\n"
      ],
      "metadata": {
        "id": "khraJ9gmuGnD"
      }
    },
    {
      "cell_type": "markdown",
      "source": [
        "<img src=\"https://media.geeksforgeeks.org/wp-content/uploads/20240524132821/nlp-working.webp\" alt=\"My image\" width=\"900\" height=\"560\"/>\n"
      ],
      "metadata": {
        "id": "TVPkCX-7_Oaw"
      }
    },
    {
      "cell_type": "markdown",
      "source": [
        "# **<font color='Orange'><b>Importing libraries -</b></font>**"
      ],
      "metadata": {
        "id": "cxmpNfaBuQGs"
      }
    },
    {
      "cell_type": "code",
      "execution_count": 63,
      "metadata": {
        "id": "xDWl7UNqtYFq"
      },
      "outputs": [],
      "source": [
        "import numpy as np\n",
        "import pandas as pd\n",
        "import matplotlib.pyplot as plt\n",
        "import seaborn as sns"
      ]
    },
    {
      "cell_type": "markdown",
      "source": [
        "# **<font color='orange'><b>Importing dataset-</b></font>**\n"
      ],
      "metadata": {
        "id": "ulZVSiWhugdB"
      }
    },
    {
      "cell_type": "code",
      "source": [
        "data = pd.read_csv('Restaurant_Reviews.tsv',delimiter = '\\t',quoting = 3)"
      ],
      "metadata": {
        "id": "IRjKebnoucq3"
      },
      "execution_count": 64,
      "outputs": []
    },
    {
      "cell_type": "code",
      "source": [
        "data"
      ],
      "metadata": {
        "colab": {
          "base_uri": "https://localhost:8080/",
          "height": 423
        },
        "id": "XsN1leXDuo6o",
        "outputId": "77288192-0811-4488-c572-49287dc971ea"
      },
      "execution_count": 65,
      "outputs": [
        {
          "output_type": "execute_result",
          "data": {
            "text/plain": [
              "                                                Review  Liked\n",
              "0                             Wow... Loved this place.      1\n",
              "1                                   Crust is not good.      0\n",
              "2            Not tasty and the texture was just nasty.      0\n",
              "3    Stopped by during the late May bank holiday of...      1\n",
              "4    The selection on the menu was great and so wer...      1\n",
              "..                                                 ...    ...\n",
              "995  I think food should have flavor and texture an...      0\n",
              "996                           Appetite instantly gone.      0\n",
              "997  Overall I was not impressed and would not go b...      0\n",
              "998  The whole experience was underwhelming, and I ...      0\n",
              "999  Then, as if I hadn't wasted enough of my life ...      0\n",
              "\n",
              "[1000 rows x 2 columns]"
            ],
            "text/html": [
              "\n",
              "  <div id=\"df-9839cce8-5f3c-4dd8-a19b-2bf7186ccc37\" class=\"colab-df-container\">\n",
              "    <div>\n",
              "<style scoped>\n",
              "    .dataframe tbody tr th:only-of-type {\n",
              "        vertical-align: middle;\n",
              "    }\n",
              "\n",
              "    .dataframe tbody tr th {\n",
              "        vertical-align: top;\n",
              "    }\n",
              "\n",
              "    .dataframe thead th {\n",
              "        text-align: right;\n",
              "    }\n",
              "</style>\n",
              "<table border=\"1\" class=\"dataframe\">\n",
              "  <thead>\n",
              "    <tr style=\"text-align: right;\">\n",
              "      <th></th>\n",
              "      <th>Review</th>\n",
              "      <th>Liked</th>\n",
              "    </tr>\n",
              "  </thead>\n",
              "  <tbody>\n",
              "    <tr>\n",
              "      <th>0</th>\n",
              "      <td>Wow... Loved this place.</td>\n",
              "      <td>1</td>\n",
              "    </tr>\n",
              "    <tr>\n",
              "      <th>1</th>\n",
              "      <td>Crust is not good.</td>\n",
              "      <td>0</td>\n",
              "    </tr>\n",
              "    <tr>\n",
              "      <th>2</th>\n",
              "      <td>Not tasty and the texture was just nasty.</td>\n",
              "      <td>0</td>\n",
              "    </tr>\n",
              "    <tr>\n",
              "      <th>3</th>\n",
              "      <td>Stopped by during the late May bank holiday of...</td>\n",
              "      <td>1</td>\n",
              "    </tr>\n",
              "    <tr>\n",
              "      <th>4</th>\n",
              "      <td>The selection on the menu was great and so wer...</td>\n",
              "      <td>1</td>\n",
              "    </tr>\n",
              "    <tr>\n",
              "      <th>...</th>\n",
              "      <td>...</td>\n",
              "      <td>...</td>\n",
              "    </tr>\n",
              "    <tr>\n",
              "      <th>995</th>\n",
              "      <td>I think food should have flavor and texture an...</td>\n",
              "      <td>0</td>\n",
              "    </tr>\n",
              "    <tr>\n",
              "      <th>996</th>\n",
              "      <td>Appetite instantly gone.</td>\n",
              "      <td>0</td>\n",
              "    </tr>\n",
              "    <tr>\n",
              "      <th>997</th>\n",
              "      <td>Overall I was not impressed and would not go b...</td>\n",
              "      <td>0</td>\n",
              "    </tr>\n",
              "    <tr>\n",
              "      <th>998</th>\n",
              "      <td>The whole experience was underwhelming, and I ...</td>\n",
              "      <td>0</td>\n",
              "    </tr>\n",
              "    <tr>\n",
              "      <th>999</th>\n",
              "      <td>Then, as if I hadn't wasted enough of my life ...</td>\n",
              "      <td>0</td>\n",
              "    </tr>\n",
              "  </tbody>\n",
              "</table>\n",
              "<p>1000 rows × 2 columns</p>\n",
              "</div>\n",
              "    <div class=\"colab-df-buttons\">\n",
              "\n",
              "  <div class=\"colab-df-container\">\n",
              "    <button class=\"colab-df-convert\" onclick=\"convertToInteractive('df-9839cce8-5f3c-4dd8-a19b-2bf7186ccc37')\"\n",
              "            title=\"Convert this dataframe to an interactive table.\"\n",
              "            style=\"display:none;\">\n",
              "\n",
              "  <svg xmlns=\"http://www.w3.org/2000/svg\" height=\"24px\" viewBox=\"0 -960 960 960\">\n",
              "    <path d=\"M120-120v-720h720v720H120Zm60-500h600v-160H180v160Zm220 220h160v-160H400v160Zm0 220h160v-160H400v160ZM180-400h160v-160H180v160Zm440 0h160v-160H620v160ZM180-180h160v-160H180v160Zm440 0h160v-160H620v160Z\"/>\n",
              "  </svg>\n",
              "    </button>\n",
              "\n",
              "  <style>\n",
              "    .colab-df-container {\n",
              "      display:flex;\n",
              "      gap: 12px;\n",
              "    }\n",
              "\n",
              "    .colab-df-convert {\n",
              "      background-color: #E8F0FE;\n",
              "      border: none;\n",
              "      border-radius: 50%;\n",
              "      cursor: pointer;\n",
              "      display: none;\n",
              "      fill: #1967D2;\n",
              "      height: 32px;\n",
              "      padding: 0 0 0 0;\n",
              "      width: 32px;\n",
              "    }\n",
              "\n",
              "    .colab-df-convert:hover {\n",
              "      background-color: #E2EBFA;\n",
              "      box-shadow: 0px 1px 2px rgba(60, 64, 67, 0.3), 0px 1px 3px 1px rgba(60, 64, 67, 0.15);\n",
              "      fill: #174EA6;\n",
              "    }\n",
              "\n",
              "    .colab-df-buttons div {\n",
              "      margin-bottom: 4px;\n",
              "    }\n",
              "\n",
              "    [theme=dark] .colab-df-convert {\n",
              "      background-color: #3B4455;\n",
              "      fill: #D2E3FC;\n",
              "    }\n",
              "\n",
              "    [theme=dark] .colab-df-convert:hover {\n",
              "      background-color: #434B5C;\n",
              "      box-shadow: 0px 1px 3px 1px rgba(0, 0, 0, 0.15);\n",
              "      filter: drop-shadow(0px 1px 2px rgba(0, 0, 0, 0.3));\n",
              "      fill: #FFFFFF;\n",
              "    }\n",
              "  </style>\n",
              "\n",
              "    <script>\n",
              "      const buttonEl =\n",
              "        document.querySelector('#df-9839cce8-5f3c-4dd8-a19b-2bf7186ccc37 button.colab-df-convert');\n",
              "      buttonEl.style.display =\n",
              "        google.colab.kernel.accessAllowed ? 'block' : 'none';\n",
              "\n",
              "      async function convertToInteractive(key) {\n",
              "        const element = document.querySelector('#df-9839cce8-5f3c-4dd8-a19b-2bf7186ccc37');\n",
              "        const dataTable =\n",
              "          await google.colab.kernel.invokeFunction('convertToInteractive',\n",
              "                                                    [key], {});\n",
              "        if (!dataTable) return;\n",
              "\n",
              "        const docLinkHtml = 'Like what you see? Visit the ' +\n",
              "          '<a target=\"_blank\" href=https://colab.research.google.com/notebooks/data_table.ipynb>data table notebook</a>'\n",
              "          + ' to learn more about interactive tables.';\n",
              "        element.innerHTML = '';\n",
              "        dataTable['output_type'] = 'display_data';\n",
              "        await google.colab.output.renderOutput(dataTable, element);\n",
              "        const docLink = document.createElement('div');\n",
              "        docLink.innerHTML = docLinkHtml;\n",
              "        element.appendChild(docLink);\n",
              "      }\n",
              "    </script>\n",
              "  </div>\n",
              "\n",
              "\n",
              "<div id=\"df-60ed15ef-783b-4e63-906e-cc11b1254314\">\n",
              "  <button class=\"colab-df-quickchart\" onclick=\"quickchart('df-60ed15ef-783b-4e63-906e-cc11b1254314')\"\n",
              "            title=\"Suggest charts\"\n",
              "            style=\"display:none;\">\n",
              "\n",
              "<svg xmlns=\"http://www.w3.org/2000/svg\" height=\"24px\"viewBox=\"0 0 24 24\"\n",
              "     width=\"24px\">\n",
              "    <g>\n",
              "        <path d=\"M19 3H5c-1.1 0-2 .9-2 2v14c0 1.1.9 2 2 2h14c1.1 0 2-.9 2-2V5c0-1.1-.9-2-2-2zM9 17H7v-7h2v7zm4 0h-2V7h2v10zm4 0h-2v-4h2v4z\"/>\n",
              "    </g>\n",
              "</svg>\n",
              "  </button>\n",
              "\n",
              "<style>\n",
              "  .colab-df-quickchart {\n",
              "      --bg-color: #E8F0FE;\n",
              "      --fill-color: #1967D2;\n",
              "      --hover-bg-color: #E2EBFA;\n",
              "      --hover-fill-color: #174EA6;\n",
              "      --disabled-fill-color: #AAA;\n",
              "      --disabled-bg-color: #DDD;\n",
              "  }\n",
              "\n",
              "  [theme=dark] .colab-df-quickchart {\n",
              "      --bg-color: #3B4455;\n",
              "      --fill-color: #D2E3FC;\n",
              "      --hover-bg-color: #434B5C;\n",
              "      --hover-fill-color: #FFFFFF;\n",
              "      --disabled-bg-color: #3B4455;\n",
              "      --disabled-fill-color: #666;\n",
              "  }\n",
              "\n",
              "  .colab-df-quickchart {\n",
              "    background-color: var(--bg-color);\n",
              "    border: none;\n",
              "    border-radius: 50%;\n",
              "    cursor: pointer;\n",
              "    display: none;\n",
              "    fill: var(--fill-color);\n",
              "    height: 32px;\n",
              "    padding: 0;\n",
              "    width: 32px;\n",
              "  }\n",
              "\n",
              "  .colab-df-quickchart:hover {\n",
              "    background-color: var(--hover-bg-color);\n",
              "    box-shadow: 0 1px 2px rgba(60, 64, 67, 0.3), 0 1px 3px 1px rgba(60, 64, 67, 0.15);\n",
              "    fill: var(--button-hover-fill-color);\n",
              "  }\n",
              "\n",
              "  .colab-df-quickchart-complete:disabled,\n",
              "  .colab-df-quickchart-complete:disabled:hover {\n",
              "    background-color: var(--disabled-bg-color);\n",
              "    fill: var(--disabled-fill-color);\n",
              "    box-shadow: none;\n",
              "  }\n",
              "\n",
              "  .colab-df-spinner {\n",
              "    border: 2px solid var(--fill-color);\n",
              "    border-color: transparent;\n",
              "    border-bottom-color: var(--fill-color);\n",
              "    animation:\n",
              "      spin 1s steps(1) infinite;\n",
              "  }\n",
              "\n",
              "  @keyframes spin {\n",
              "    0% {\n",
              "      border-color: transparent;\n",
              "      border-bottom-color: var(--fill-color);\n",
              "      border-left-color: var(--fill-color);\n",
              "    }\n",
              "    20% {\n",
              "      border-color: transparent;\n",
              "      border-left-color: var(--fill-color);\n",
              "      border-top-color: var(--fill-color);\n",
              "    }\n",
              "    30% {\n",
              "      border-color: transparent;\n",
              "      border-left-color: var(--fill-color);\n",
              "      border-top-color: var(--fill-color);\n",
              "      border-right-color: var(--fill-color);\n",
              "    }\n",
              "    40% {\n",
              "      border-color: transparent;\n",
              "      border-right-color: var(--fill-color);\n",
              "      border-top-color: var(--fill-color);\n",
              "    }\n",
              "    60% {\n",
              "      border-color: transparent;\n",
              "      border-right-color: var(--fill-color);\n",
              "    }\n",
              "    80% {\n",
              "      border-color: transparent;\n",
              "      border-right-color: var(--fill-color);\n",
              "      border-bottom-color: var(--fill-color);\n",
              "    }\n",
              "    90% {\n",
              "      border-color: transparent;\n",
              "      border-bottom-color: var(--fill-color);\n",
              "    }\n",
              "  }\n",
              "</style>\n",
              "\n",
              "  <script>\n",
              "    async function quickchart(key) {\n",
              "      const quickchartButtonEl =\n",
              "        document.querySelector('#' + key + ' button');\n",
              "      quickchartButtonEl.disabled = true;  // To prevent multiple clicks.\n",
              "      quickchartButtonEl.classList.add('colab-df-spinner');\n",
              "      try {\n",
              "        const charts = await google.colab.kernel.invokeFunction(\n",
              "            'suggestCharts', [key], {});\n",
              "      } catch (error) {\n",
              "        console.error('Error during call to suggestCharts:', error);\n",
              "      }\n",
              "      quickchartButtonEl.classList.remove('colab-df-spinner');\n",
              "      quickchartButtonEl.classList.add('colab-df-quickchart-complete');\n",
              "    }\n",
              "    (() => {\n",
              "      let quickchartButtonEl =\n",
              "        document.querySelector('#df-60ed15ef-783b-4e63-906e-cc11b1254314 button');\n",
              "      quickchartButtonEl.style.display =\n",
              "        google.colab.kernel.accessAllowed ? 'block' : 'none';\n",
              "    })();\n",
              "  </script>\n",
              "</div>\n",
              "\n",
              "  <div id=\"id_c9be1fb9-b6f0-43ff-9283-46611640042a\">\n",
              "    <style>\n",
              "      .colab-df-generate {\n",
              "        background-color: #E8F0FE;\n",
              "        border: none;\n",
              "        border-radius: 50%;\n",
              "        cursor: pointer;\n",
              "        display: none;\n",
              "        fill: #1967D2;\n",
              "        height: 32px;\n",
              "        padding: 0 0 0 0;\n",
              "        width: 32px;\n",
              "      }\n",
              "\n",
              "      .colab-df-generate:hover {\n",
              "        background-color: #E2EBFA;\n",
              "        box-shadow: 0px 1px 2px rgba(60, 64, 67, 0.3), 0px 1px 3px 1px rgba(60, 64, 67, 0.15);\n",
              "        fill: #174EA6;\n",
              "      }\n",
              "\n",
              "      [theme=dark] .colab-df-generate {\n",
              "        background-color: #3B4455;\n",
              "        fill: #D2E3FC;\n",
              "      }\n",
              "\n",
              "      [theme=dark] .colab-df-generate:hover {\n",
              "        background-color: #434B5C;\n",
              "        box-shadow: 0px 1px 3px 1px rgba(0, 0, 0, 0.15);\n",
              "        filter: drop-shadow(0px 1px 2px rgba(0, 0, 0, 0.3));\n",
              "        fill: #FFFFFF;\n",
              "      }\n",
              "    </style>\n",
              "    <button class=\"colab-df-generate\" onclick=\"generateWithVariable('data')\"\n",
              "            title=\"Generate code using this dataframe.\"\n",
              "            style=\"display:none;\">\n",
              "\n",
              "  <svg xmlns=\"http://www.w3.org/2000/svg\" height=\"24px\"viewBox=\"0 0 24 24\"\n",
              "       width=\"24px\">\n",
              "    <path d=\"M7,19H8.4L18.45,9,17,7.55,7,17.6ZM5,21V16.75L18.45,3.32a2,2,0,0,1,2.83,0l1.4,1.43a1.91,1.91,0,0,1,.58,1.4,1.91,1.91,0,0,1-.58,1.4L9.25,21ZM18.45,9,17,7.55Zm-12,3A5.31,5.31,0,0,0,4.9,8.1,5.31,5.31,0,0,0,1,6.5,5.31,5.31,0,0,0,4.9,4.9,5.31,5.31,0,0,0,6.5,1,5.31,5.31,0,0,0,8.1,4.9,5.31,5.31,0,0,0,12,6.5,5.46,5.46,0,0,0,6.5,12Z\"/>\n",
              "  </svg>\n",
              "    </button>\n",
              "    <script>\n",
              "      (() => {\n",
              "      const buttonEl =\n",
              "        document.querySelector('#id_c9be1fb9-b6f0-43ff-9283-46611640042a button.colab-df-generate');\n",
              "      buttonEl.style.display =\n",
              "        google.colab.kernel.accessAllowed ? 'block' : 'none';\n",
              "\n",
              "      buttonEl.onclick = () => {\n",
              "        google.colab.notebook.generateWithVariable('data');\n",
              "      }\n",
              "      })();\n",
              "    </script>\n",
              "  </div>\n",
              "\n",
              "    </div>\n",
              "  </div>\n"
            ],
            "application/vnd.google.colaboratory.intrinsic+json": {
              "type": "dataframe",
              "variable_name": "data",
              "summary": "{\n  \"name\": \"data\",\n  \"rows\": 1000,\n  \"fields\": [\n    {\n      \"column\": \"Review\",\n      \"properties\": {\n        \"dtype\": \"string\",\n        \"num_unique_values\": 996,\n        \"samples\": [\n          \"They were excellent.\",\n          \"Your servers suck, wait, correction, our server Heimer sucked.\",\n          \"Will be back again!\"\n        ],\n        \"semantic_type\": \"\",\n        \"description\": \"\"\n      }\n    },\n    {\n      \"column\": \"Liked\",\n      \"properties\": {\n        \"dtype\": \"number\",\n        \"std\": 0,\n        \"min\": 0,\n        \"max\": 1,\n        \"num_unique_values\": 2,\n        \"samples\": [\n          0,\n          1\n        ],\n        \"semantic_type\": \"\",\n        \"description\": \"\"\n      }\n    }\n  ]\n}"
            }
          },
          "metadata": {},
          "execution_count": 65
        }
      ]
    },
    {
      "cell_type": "markdown",
      "source": [
        "# **<font color='orange'><b>Cleaning of the dataset -</b></font>**\n"
      ],
      "metadata": {
        "id": "H2nnOEiD7Cz1"
      }
    },
    {
      "cell_type": "code",
      "source": [
        "# This is for cleaning the dataset which make better understanding for machine learning model to make predictions.\n",
        "\n",
        "import re\n",
        "import nltk # Natural Language Toolkit\n",
        "nltk.download( 'stopwords' )\n",
        "from nltk.corpus import stopwords\n",
        "from nltk.stem.porter import PorterStemmer\n",
        "corpus = []\n",
        "for i in range(0,1000):\n",
        "  review = re.sub('^a-zA-Z]',' ',data['Review'][i])\n",
        "  review = review.lower()\n",
        "  review = review.split()\n",
        "  ps = PorterStemmer()\n",
        "  all_stopwords = stopwords.words('english')\n",
        "  all_stopwords.remove('not')\n",
        "  review  =  [ps.stem(word) for word in review if not word in set(all_stopwords)]\n",
        "  review = ' '.join(review)\n",
        "  corpus.append(review)"
      ],
      "metadata": {
        "id": "QAtn4lpxv4qW",
        "colab": {
          "base_uri": "https://localhost:8080/"
        },
        "outputId": "b24b75cc-39a2-4ada-cc5c-3c8ea8be59f3"
      },
      "execution_count": 66,
      "outputs": [
        {
          "output_type": "stream",
          "name": "stderr",
          "text": [
            "[nltk_data] Downloading package stopwords to /root/nltk_data...\n",
            "[nltk_data]   Package stopwords is already up-to-date!\n"
          ]
        }
      ]
    },
    {
      "cell_type": "markdown",
      "source": [
        "# **<font color='orange'><b>Here you can see the result -</b></font>**\n"
      ],
      "metadata": {
        "id": "dH52FmZ-vKKD"
      }
    },
    {
      "cell_type": "code",
      "source": [
        "print(corpus)"
      ],
      "metadata": {
        "id": "rzUzcjiov7kR",
        "colab": {
          "base_uri": "https://localhost:8080/"
        },
        "outputId": "680c2f34-02bb-4dd4-a7c9-dc4cb555438b"
      },
      "execution_count": 67,
      "outputs": [
        {
          "output_type": "stream",
          "name": "stdout",
          "text": [
            "['wow... love place.', 'crust not good.', 'not tasti textur nasty.', 'stop late may bank holiday rick steve recommend love it.', 'select menu great prices.', 'get angri want damn pho.', 'honeslti tast fresh.)', 'potato like rubber could tell made ahead time kept warmer.', 'fri great too.', 'great touch.', 'servic prompt.', 'would not go back.', 'cashier care ever say still end wayyy overpriced.', 'tri cape cod ravoli, chicken, cranberry...mmmm!', 'disgust pretti sure human hair.', 'shock sign indic cash only.', 'highli recommended.', 'waitress littl slow service.', 'place not worth time, let alon vegas.', 'not like all.', 'burritto blah!', 'food, amazing.', 'servic also cute.', 'could care less... interior beautiful.', 'performed.', \"that' right....th red velvet cake.....ohhh stuff good.\", '- never brought salad ask for.', 'hole wall great mexican street tacos, friendli staff.', 'took hour get food 4 tabl restaur food luke warm, sever run around like total overwhelmed.', 'worst salmon sashimi.', 'also combo like burger, fries, beer 23 decent deal.', 'like final blow!', 'found place accid could not happier.', 'seem like good quick place grab bite familiar pub food, favor look elsewhere.', 'overall, like place lot.', 'redeem qualiti restaur inexpensive.', 'ampl portion good prices.', 'poor service, waiter made feel like stupid everi time came table.', 'first visit hiro delight!', 'servic sucks.', 'shrimp tender moist.', 'not deal good enough would drag establish again.', 'hard judg whether side good gross melt styrofoam want eat fear get sick.', 'posit note, server attent provid great service.', 'frozen puck disgust, worst peopl behind register.', 'thing like prime rib dessert section.', 'bad food damn generic.', 'burger good beef, cook right.', 'want sandwich go firehouse!!!!!', 'side greek salad greek dress tasty, pita hummu refreshing.', 'order duck rare pink tender insid nice char outside.', 'came run us realiz husband left sunglass table.', 'chow mein good!', 'horribl attitud toward customers, talk one custom enjoy food.', 'portion huge!', 'love it...friendli servers, great food, wonder imagin menu.', 'heart attack grill downtown vega absolut flat-lin excus restaurant.', 'not much seafood like 5 string pasta bottom.', 'salad right amount sauc not power scallop, perfectli cooked.', 'rip banana not ripped, petrifi tasteless.', 'least think refil water struggl wave 10 minutes.', 'place receiv star appetizers!!!', 'cocktail handmad delicious.', \"we'd definit go back again.\", 'glad found place.', 'great food service, huge portion give militari discount.', 'alway great time do gringos!', 'update.....w back second time still amaz', 'got food appar never heard salt batter fish chewy.', 'great way finish great.', 'deal includ 5 tast 2 drinks, jeff went beyond expected.', '- really, realli good rice, time.', 'servic meh.', 'took 30 min get milkshake, noth chocol milk.', 'guess known place would suck, insid excalibur, use common sense.', 'scallop dish quit appal valu well.', '2 time - bad custom servic !', 'sweet potato fri good season well.', \"today second time i'v lunch buffet pretti good.\", 'much good food vega feel cheat wast eat opportun go rice company.', \"come like experienc underwhelm relationship parti can't wait person ask break up.\", 'walk place smell like old greas trap 2 other eating.', 'turkey roast beef bland.', 'place it!', 'pan cake everyon rave tast like sugari disast tailor palat six year old.', 'love pho spring roll oh yummi try.', 'poor batter meat ratio made chicken tender unsatisfying.', 'say food amazing!!!', 'omelet die for!', 'everyth fresh delicious!', 'summary, larg disappoint dine experience.', 'like realli sexi parti mouth, outrag flirt hottest person party.', 'never hard rock casino before, never ever step forward again!', 'best breakfast buffet!!!', 'say bye bye tip lady!', \"we'll never go again.\", 'back again!', 'food arriv quickly!', 'not good.', 'side, cafe serv realli good food.', 'server fantast found wife love roast garlic bone marrow, ad extra meal anoth marrow go!', \"good thing waiter, help kept bloddi mary' coming.\", 'best buffet town, price cannot beat it.', 'love mussel cook wine reduction, duck tender, potato dish delicious.', 'one better buffet to.', 'went tigerlilli fantast afternoon!', 'food delicious, bartend attent person got great deal!', 'ambienc wonder music playing.', 'go back next trip out.', 'sooooo good!!', \"real sushi lovers, let' honest - yama not good.\", 'least 40min pass us order food arriving, busy.', 'realli fantast thai restaur definit worth visit.', 'nice, spici tender.', 'good prices.', 'check out.', 'pretti gross!', \"i'v better atmosphere.\", 'kind hard mess steak did.', 'although much like look sound place, actual experi bit disappointing.', 'know place manag serv blandest food ever eaten prepar indian cuisine.', 'worst servic boot, least worries.', 'servic fine waitress friendly.', \"guy steaks, steak love son steak best worst place said best steak he' ever eaten.\", 'thought ventur away get good sushi, place realli hit spot night.', 'host staff were, lack better word, bitches!', \"bland... not like place number reason want wast time bad reviewing.. i'll leav that...\", 'phenomen food, servic ambiance.', 'return.', \"definit worth ventur strip pork belly, return next time i'm vegas.\", 'place way overpr mediocr food.', 'penn vodka excellent!', 'good select food includ massiv meatloaf sandwich, crispi chicken wrap, delish tuna melt tasti burgers.', 'manag rude.', 'delici nyc bagels, good select cream cheese, real lox caper even.', 'great subway, fact good come everi subway not meet expectations.', 'serious solid breakfast here.', 'one best bar food vegas.', 'extrem rude really, mani restaur would love dine weekend vegas.', 'drink never empti made realli great menu suggestions.', 'it!!!!', 'waiter help friendli rare check us.', 'husband ate lunch disappoint food service.', 'red curri much bamboo shoot tasti me.', 'nice blanket moz top feel like done cover subpar food.', 'bathroom clean place well decorated.', 'menu alway changing, food qualiti go & servic extrem slow.', 'servic littl slow , consid serv 3 peopl server food come slow pace.', 'give 2 thumb', 'watch waiter pay lot attent tabl ignor us.', 'fiancé came middl day greet seat right away.', 'great restaur mandalay bay.', 'wait forti five minut vain.', 'crostini came salad stale.', 'highlight : great qualiti nigiri here!', 'staff friendli joint alway clean.', 'differ cut piec day still wonder tender well well flavored.', \"order voodoo pasta first time i'd realli excel pasta sinc go gluten free sever year ago.\", 'place good.', 'unfortunately, must hit bakeri leftov day everyth order stale.', 'came back today sinc reloc still not impressed.', 'seat immediately.', 'menu diverse, reason priced.', 'avoid cost!', 'restaur alway full never wait.', 'delicious!!', 'place hands-down one best place eat phoenix metro area.', 'go look good food...', \"i'v never treat bad.\", 'bacon hella salty.', 'also order spinach avocado salad, ingredi sad dress liter zero taste.', 'realli vega fine dine use be, right menu hand ladi price listed.', 'waitress friendly.', 'lordy, khao soi dish not miss curri lovers!', 'everyth menu terrif also thrill made amaz accommod vegetarian daughter.', \"perhap caught night judg reviews, i'm not inspir go back.\", 'servic leav lot desired.', 'atmospher modern hip, maintain touch coziness.', 'not weekli haunt, definit place come back everi while.', 'liter sat 20 minut one ask take order.', 'burger absolut flavor - meat total bland, burger overcook charcoal flavor.', 'also decid not send back waitress look like verg heart attack.', 'dress treat rudely!', 'probabl dirt.', 'love place, hit spot want someth healthi not lack quantiti flavor.', 'order lemon raspberri ice cocktail also incredible.', 'food sucked, expect suck could imagined.', 'interest decor.', 'realli like crepe station.', 'also serv hot bread butter, home made potato chip bacon bit top....veri origin good.', 'watch prepar delici food!)', 'egg roll fantastic.', 'order arrived, one gyro missing.', 'salad wings, ice cream dessert left feel quit satisfied.', \"i'm not realli sure joey' vote best hot dog valley reader phoenix magazine.\", 'best place go tasti bowl pho!', 'live music friday total blows.', \"i'v never insult felt disrespected.\", 'friendli staff.', 'worth drive.', 'heard good thing place, exceed everi hope could dream of.', 'food great serivce!', 'warm beer help.', 'great brunch spot.', 'servic friendli inviting.', 'good lunch spot.', \"i'v live sinc 1979 first (and last) time i'v step foot place.\", 'worst experi ever.', 'must night place.', 'side delish - mix mushrooms, yukon gold puree, white corn - beateous.', 'bug never show would given 4 sure, side wall bug climb kitchen.', \"10 minutes, we'r wait salad realiz come time soon.\", 'friend love salmon tartar.', 'go back.', 'extrem tasty!', 'waitress good though!', 'soggi not good.', 'jamaican mojito delicious.', 'small not worth price.', '- food rich order accordingly.', 'shower area outsid rinse, not take full shower, unless mind nude everyon see!', 'servic bit lacking.', 'lobster bisque, bussel sprouts, risotto, filet need salt pepper..and cours none tables.', 'hope bode go busi someon cook come in.', 'either cold, not enough flavor bad.', 'love bacon wrap dates.', 'unbeliev bargain!', 'folk otto alway make us feel welcom special.', '\"mains,\" also uninspired.', 'place first pho amazing!!', 'wonder experi made place must-stop whenev town again.', \"food bad enough you, enjoy deal world' worst/annoy drunk people.\", 'fun chef.', 'order doubl cheeseburg & got singl patti fall apart (pictur uploaded) yeah, still sucks.', \"great place coupl drink watch sport event wall cover tv's.\", \"possibl give zero stars, they'd it.\", 'descript said \"yum yum sauce\" anoth said \"eel sauce\", yet anoth said \"spici mayo\"...wel none roll sauc them.', \"i'd say would hardest decision... honestly, m' dish tast suppos tast (amazing).\", 'not roll eye may stayed... not sure go back tri again.', 'everyon attentive, provid excel custom service.', 'horribl - wast time money.', 'dish quit flavourful.', 'time side restaur almost empti excuse.', '(it busi either) also, build freez cold.', 'like review said \"you pay eat place again.\"', '-drink took close 30 minut come one point.', 'serious flavor delights, folks.', 'much better ayc sushi place went vegas.', 'light dark enough set mood.', 'base sub-par servic receiv effort show gratitud busi go back.', \"owner' realli great people.!\", 'noth privileg working/ there.', 'greek dress creami flavorful.', 'overall, think would take parent place made similar complaint silent felt too.', 'pizza good peanut sauc tasty.', '7 tabl servic pretti fast.', 'fantast servic here.', \"well would'v given godfath zero star possible.\", 'know make here.', 'tough short flavor!', 'hope place stick around.', 'bar vegas, not ever recal charg tap water.', 'restaur atmospher exquisite.', 'good service, clean, inexpensive, boot!', 'seafood fresh gener portion.', 'plus, 8 bucks.', 'servic not par, either.', 'thu far, visit twice food absolut delici time.', 'good year ago!', 'self proclaim coffe cafe, wildli disappointed.', 'veggitarian platter world!', 'cant go wrong food here.', \"can't beat that.\", 'stop place madison ironman, friendly, kind staff.', 'chef friendli good job.', \"i'v better, not dedic boba tea spots, even jenni pho.\", 'like patio servic outstanding.', 'goat taco skimp meat wow flavor!', 'think not', 'mac salad pretti bland not get again.', \"went bachi burger friend' recommend not disappointed.\", 'servic stink here!', 'wait waited.', 'place not qualiti sushi, not qualiti restaurant.', 'would definit recommend wing well pizza.', 'great pizza salads!', 'thing went wrong: - burn saganaki.', 'wait hour breakfast could done 100 time better home.', 'place amazing!', 'hate disagre fellow yelpers, husband disappoint place.', 'wait 2 hour & never got either pizza mani around us came later did!', 'know slow.', 'staff great, food delish, incred beer selection.', 'live neighborhood disappoint back here, conveni location.', 'know pull pork could soooo delicious.', 'get incred fresh fish, prepar care.', 'go gave 1 star rate pleas know third time eat bachi burger write review.', 'love fact everyth menu worth it.', 'never dine place!', 'food excel servic good.', 'good beer & drink select good food selection.', 'pleas stay away shrimp stir fri noodles.', 'potato chip order sad... could probabl count mani chip box probabl around 12.', 'food realli boring.', 'good service-check!', 'greedi corpor never see anoth dime me!', 'never, ever go back.', \"much i'd like go back, can't get pass atroci servic never return.\", 'summer, dine charm outdoor patio - delightful.', 'not expect good!', 'fantast food!', 'order toast english muffin came untoasted.', 'food good.', 'never go back.', 'great food price, high qualiti hous made.', 'bu boy hand rude.', 'point, friend basic figur place joke mind make publicli loudli known.', 'back good bbq, lighter fare, reason price tell public back old ways.', \"consid two us left full happi $20, can't go wrong.\", 'bread made in-house!', 'downsid service.', \"also, fri without doubt worst fri i'v ever had.\", 'servic except food good reviews.', 'coupl month later, return amaz meal.', 'favorit place town shawarrrrrrma!!!!!!', 'black eye pea sweet potatoes... unreal!', 'disappointed.', 'could serv vinaigrett may make better overal dish, still good.', \"go far mani place i'v never seen restaur serv 1 egg breakfast, especi $4.00.\", 'mom got home immedi got sick bite salad.', 'server not pleasant deal alway honor pizza hut coupons.', 'truli unbeliev good, glad went back.', 'fantast service, pleas atmosphere.', 'everyth gross.', 'love place.', 'great servic food.', 'first - bathroom locat dirty- seat cover not replenish & plain yucky!!!', 'burger... got \"gold standard\" $17 burger kind disappointed.', 'omg, food delicioso!', 'noth authent place.', 'spaghetti noth special whatsoever.', 'dishes, salmon best, great.', 'veget fresh sauc feel like authent thai.', 'worth drive tucson!', \"select probabl worst i'v seen vegas.....ther none.\", 'pretti good beer select too.', 'place like chipotle, better.', 'classy/warm atmosphere, fun fresh appetizers, succul steak (basebal steak!!!!!', '5 star brick oven bread app!', 'eaten multipl times, time food delicious.', 'sat anoth ten minut final gave left.', 'terrible!', 'everyon treat equal special.', 'take 30 min pancak eggs.', 'delicious!!!', 'good side, staff genuin pleasant enthusiast - real treat.', \"sadly, gordon ramsey' steak place shall sharpli avoid next trip vegas.\", 'alway even wonder food delicious!', \"best fish i'v ever life!\", '(the bathroom next door nice.)', 'buffet small food offer bland.', 'outstand littl restaur best food ever tasted.', 'pretti cool would say.', \"definit turn & doubt i'll back unless someon els buying.\", 'server great job handl larg rowdi table.', 'find wast food despicable, food.', 'wife lobster bisqu soup lukewarm.', 'would come back sushi crave vegas.', 'staff great, ambianc great.', 'deserv 5 stars.', 'left stomach ach felt sick rest day.', 'drop ball.', 'dine space tiny, elegantli decor comfortable.', 'custom order way like, usual eggplant green bean stir fry, love it!', 'bean rice mediocr best.', 'best taco town far!!', 'took back money got outta there.', 'interest part town, place amazing.', 'rude & inconsider management.', 'staff not friendly, wait time serv horrible, one even say hi first 10 minutes.', 'back.', 'great dinners.', 'servic outshin & definit recommend halibut.', 'food terrible.', 'never ever go back told mani peopl happened.', 'recommend unless car break front starving.', \"come back everi time i'm vegas.\", 'place deserv one star 90% food.', 'disgrace.', 'def come back bowl next time', 'want healthi authent ethic food, tri place.', 'continu come ladi night andddd date night ... highli recommend place anyon area.', 'sever time past, experi alway great.', 'walk away stuf happi first vega buffet experience.', 'servic excel price pretti reason consid vega locat insid crystal shop mall aria.', 'summarize... food incredible, nay, transcendant... noth bring joy quit like memori pneumat condiment dispenser.', \"i'm probabl one peopl ever go ian not like it.\", 'kid pizza alway hit lot great side dish option kiddos!', 'servic perfect famili atmospher nice see.', 'cook perfect servic impeccable.', 'one simpli disappointment.', 'overall, disappoint qualiti food bouchon.', \"account know i'm get screwed!\", 'great place eat, remind littl mom pop shop san francisco bay area.', 'today first tast buldogi gourmet hot dog tell ever thought possible.', 'left frustrated.', \"i'll definit soon again.\", 'food realli good got full petti fast.', 'servic fantastic.', 'total wast time.', 'know kind best ice tea.', 'come hungry, leav happi stuffed!', 'service, give stars.', 'assur disappointed.', 'take littl bad servic food sucks.', 'gave tri eat crust (teeth still sore).', 'complet gross out.', 'realli enjoy eat here.', 'first time go think quickli becom regular.', 'server nice, even though look littl overwhelm needs, stay profession friendli end.', 'dinner companion told me...everyth fresh nice textur taste.', 'ground, right next tabl large, smeared, been-stepped-in-and-tracked-everywher pile green bird poop.', \"furthermore, can't even find hour oper website!\", \"we'v tri like place 10+ time think we'r done them.\", 'mistak was!', 'complaints!', \"serious good pizza i'm expert/connisseur topic.\", 'waiter jerk.', 'strike 2, want rushed.', \"nicest restaur owner i'v ever come across.\", 'never come again.', 'love biscuits!!!', 'servic quick friendly.', 'order appet took 40 minut pizza anoth 10 minutes.', 'absolutley fantastic.', 'huge awkward 1.5lb piec cow 3/4th gristl fat.', 'definit come back again.', 'like steiner dark feel like bar.', 'wow spici delicious.', 'not familiar, check out.', \"i'll take busi dinner dollar elsewhere.\", \"i'd love go back.\", 'anyway, fs restaur wonder breakfast/lunch.', 'noth special.', 'day week differ deal delicious!', 'not mention combin pears, almond bacon big winner!', 'not back.', 'sauc tasteless.', 'food delici spici enough, sure ask spicier prefer way.', 'ribey steak cook perfectli great mesquit flavor.', \"think we'll go back anytim soon.\", 'food gooodd.', 'far sushi connoisseur definit tell differ good food bad food certainli bad food.', 'insulted.', 'last 3 time lunch bad.', 'chicken wing contain driest chicken meat ever eaten.', 'food good enjoy everi mouthful, enjoy relax venu coupl small famili group etc.', 'nargil - think great.', 'best tater tot southwest.', 'love place.', 'definit not worth $3 paid.', 'vanilla ice cream creami smooth profiterol (choux) pastri fresh enough.', 'im az time new spot.', 'manag worst.', 'insid realli quit nice clean.', 'food outstand price reasonable.', \"think i'll run back carly' anytim soon food.\", 'due fact took 20 minut acknowledged, anoth 35 minut get food...and kept forget things.', 'love margaritas, too!', 'first vega buffet not disappoint.', 'good, though!', 'one note ventil could use upgrading.', 'great pork sandwich.', 'wast time here.', 'total letdown, would much rather go camelback flower shop cartel coffee.', \"third, chees friend' burger cold.\", 'enjoy pizza brunch.', 'steak well trim also perfectli cooked.', 'group 70+ claim would 40 handl us beautifully.', 'love it!', 'ask bill leav without eat bring either.', \"place jewel la vegas, exactli i'v hope find nearli ten year live here.\", 'seafood limit boil shrimp crab leg crab leg definit not tast fresh.', 'select food not best.', 'delici absolut back!', 'small famili restaurant, fine dine establishment.', 'toro tartar cavier extraordinari like thinli slice wagyu white truffle.', 'dont think back long time.', 'attach ga station, rare good sign.', 'awesom that.', 'back mani time soon.', 'menu much good stuff could not decide!', 'wors all, humili worker right front me..bunch horribl name callings.', 'conclusion: fill meals.', 'daili special alway hit group.', 'tragedi struck.', 'pancak also realli good pretti larg that.', 'first crawfish experience, delicious!', 'monster chicken fri steak egg time favorite.', 'waitress sweet funny.', \"also tast mom' multi-grain pumpkin pancak pecan butter amazing, fluffy, delicious!\", \"i'd rather eat airlin food, seriously.\", 'cant say enough good thing place.', 'ambianc incredible.', 'waitress manag friendly.', 'would not recommend place.', 'overal impress noca.', 'gyro basic lettuc only.', 'terribl service!', 'thoroughli disappointed!', 'much pasta, love homemad /hand made pasta thin pizza here.', 'give try, happi did.', 'far best cheesecurd ever had!', 'reason price also!', 'everyth perfect night in.', 'food good typic bar food.', 'drive get there.', 'first glanc love bakeri cafe - nice ambiance, clean, friendli staff.', 'anyway, not think go back there.', 'point finger item menu, order disappointed.', 'oh thing beauty, restaurant.', 'gone go now!', 'greasy, unhealthi meal.', 'first time might last.', 'burger amazing.', 'similarly, deliveri man not say word apolog food 45 minut late.', 'way expensive.', 'sure order dessert, even need pack to-go - tiramisu cannoli die for.', \"first time can't wait next.\", 'bartend also nice.', 'everyth good tasty!', 'place two thumb up....way up.', 'best place vega breakfast (just check sat, sun.', 'love authent mexican food want whole bunch interesting, yet delici meat choos from, need tri place.', 'terribl management.', 'excel new restaur experienc frenchman.', 'zero star would give zero stars.', 'great steak, great sides, great wine, amaz desserts.', 'worst martini ever!', 'steak shrimp opinion best entre gc.', 'opportun today sampl amaz pizzas!', 'wait thirti minut seat (although 8 vacant tabl folk waiting).', 'yellowtail carpaccio melt mouth fresh.', 'tri go back even empty.', \"no, i'm go eat potato found stranger hair it.\", 'spici enough.. perfect actually.', 'last night second time dine happi decid go back!', 'not even \"hello, right you.\"', 'dessert bit strange.', 'boyfriend came first time recent trip vega could not pleas qualiti food service.', 'realli recommend place, go wrong donut place!', 'nice ambiance.', 'would recommend save room this!', 'guess mayb went night disgraceful.', 'however, recent experi particular locat not good.', 'know not like restaur all, someth here!', 'avoid establishment!', 'think restaur suffer not tri hard enough.', 'tapa dish delicious!', '*heart* place.', 'salad bland vinegrett babi green heart palm.', 'two felt disgusting.', 'good time!', 'believ place great stop huge belli hanker sushi.', 'gener portion great taste.', 'never go back place never ever recommend place anyone!', 'server went back forth sever times, not even much \"are helped?\"', 'food delicious!', 'hour... seriously?', 'consid theft.', 'eew... locat need complet overhaul.', 'recent wit poor qualiti manag toward guest well.', 'wait wait waited.', 'also came back check us regularly, excel service.', 'server super nice check us mani times.', 'pizza tast old, super chewi not good way.', 'swung give tri deepli disappointed.', 'servic good compani better!', 'staff also friendli efficient.', \"service: i'm fan, quick serv nice folks.\", 'boy sucker dry!!.', 'rated.', 'look authent thai food, go els where.', 'steak 100% recommended!', 'pull car wait anoth 15 minut acknowledged.', 'great food great servic clean friendli setting.', \"all, assur i'll back.\", 'hate thing much cheap qualiti black olives.', 'breakfast perpar great, beauti present 3 giant slice toast, lightli dust powder sugar.', 'kid play area nasty!', 'great place fo take eat in.', 'waitress friendli happi accomod vegan/veggi options.', 'omg felt like never eaten thai food dish.', 'extrem \"crumby\" pretti tasteless.', 'pale color instead nice char flavor.', 'crouton also tast homemad extra plus.', 'got home see driest damn wing ever!', \"it'll regular stop trip phoenix!\", 'realli enjoy crema café expanded. even told friend best breakfast.', 'not good money.', 'miss wish one philadelphia!', 'got sit fairli fast, but, end wait 40 minut place order, anoth 30 minut food arrived.', 'also best chees crisp town.', 'good value, great food, great service.', 'ask satisfi meal.', 'food good.', 'awesome.', 'want leave.', 'made drive way north scottsdale... not one bit disappointed!', 'not eat again.', '!....the owner realli realli need quit soooooo cheap let wrap freak sandwich two paper not one!', 'check place coupl year ago not impressed.', 'chicken got definit reheat ok, wedg cold soggy.', 'sorry, not get food anytim soon :(', 'absolut must visit!', 'cow tongu cheek taco amazing.', 'friend not like bloodi mary.', 'despit hard rate businesses, actual rare give 1 star.', 'realli want make experi good one.', 'not return.', 'chicken pho tast bland.', 'disappointing!!!', 'grill chicken tender yellow saffron seasoning.', 'drive thru mean not want wait around half hour food, somehow end go make us wait wait.', 'pretti awesom place.', 'ambienc perfect.', 'best luck rude non-custom servic focus new management.', 'grandmoth make roast chicken better one.', 'ask multipl time wine list time ignor went hostess got one myself.', 'staff alway super friendli helpful, especi cool bring two small boy baby!', 'four star food & guy blue shirt great vibe & still let us eat !', 'roast beef sandwich tast realli good!', 'evening, drastic sick.', 'high-qual chicken chicken caesar salad.', \"order burger rare came we'll done.\", 'promptli greet seated.', 'tri go lunch madhouse.', 'proven dead wrong sushi bar, not qualiti great, servic fast food, impeccable.', 'wait hour seated, not greatest moods.', 'good joint.', 'macaron insan good.', \"i'm not eat here!\", 'waiter attentive, friendly, informative.', 'mayb cold would somewhat edible.', 'place lot promis fail deliver.', 'bad experience!', 'mistake.', 'food averag best.', 'great food.', 'go back anytim soon!', 'disappoint order $35 big bay plater.', 'great place relax awesom burger beer.', 'perfect sit-down famili meal get togeth friends.', 'not much flavor them, poorli constructed.', 'patio seat comfortable.', 'fri rice dri well.', 'hand favorit italian restaurant!', 'scream \"legit\" book...somethat\\' also pretti rare vegas.', 'not fun experience.', 'atmospher great love duo violinist play song requested.', \"person love hummus, pita, baklava, falafel baba ganoush (it' amaz eggplant!).\", 'convenient, sinc stay mgm!', 'owner super friendli staff courteous.', 'great!', 'eclect selection.', 'sweet potato tot good onion ring perfect close had.', 'staff attentive.', 'chef gener time (even came around twice take pictur him).', 'owner use work nobu, place realli similar half price.', 'googl mediocr imagin smashburg pop up.', 'dont go here.', 'promis disappoint.', 'sushi lover avoid place means.', 'great doubl cheeseburger!', 'awesom servic food.', 'fantast neighborhood gem !!!', \"can't wait go back.\", \"plantain worst i'v ever tasted.\", 'great place highli recommend it.', 'servic slow not attentive.', \"gave 5 star then, i'm give 5 star now.\", 'staff spend time talk me.', 'dessert: panna cotta amazing.', 'good food, great atmosphere.1', 'damn good steak.', 'total brunch fail.', 'price reasonable, flavor spot on, sauc home made, slaw not drench mayo.', 'decor nice, piano music soundtrack pleasant.', 'steak amazing...rg fillet relleno best seafood plate ever had!', 'good food , good servic .', 'absolut amazing.', 'probabl back, honest.', 'definit back!', 'sergeant pepper beef sandwich auju sauc excel sandwich well.', \"hawaiian breeze, mango magic, pineappl delight smoothi i'v tri far they'r good.\", 'went lunch - servic slow.', 'much say place walk expect amazing, quickli disappointed.', 'mortified.', 'needless say, never back again.', 'anyways, food definit not fill all, price pay expect more.', 'chip came drip grease, mostli not edible.', 'realli impress strip steak.', 'go sinc 2007 everi meal awesome!!', 'server nice attent serv staff.', 'cashier friendli even brought food me.', 'work hospit industri paradis valley refrain recommend cibo longer.', 'atmospher fun.', 'would not recommend others.', 'servic quick even \"to go\" order like like it!', 'mean really, get famou fish chip terrible!?!', 'said, mouth belli still quit pleased.', 'not thing.', '2 thumb up!!', 'read pleas go there.', 'love grill pizza, remind legit italian pizza.', 'pro : larg seat area/ nice bar area/ great simpl drink menu/ best brick oven pizza homemad dough!', 'realli nice atmosphere.', 'tonight elk filet special...and sucked.', 'one bite, hooked.', 'order old classic new dish go time sore disappoint everything.', 'cute, quaint, simple, honest.', 'chicken delici season perfect fri outsid moist chicken inside.', 'food great always, compliment chef.', 'special thank dylan t. recommend order :) yummi tummy.', 'awesom select beer.', 'great food awesom service!', 'one nice thing ad gratuiti bill sinc parti larger 6 8, expect tip that.', 'fli appl juice.. fly!!!!!!!!', 'han nan chicken also tasty.', 'service, thought good.', 'food bare lukewarm, must sit wait server bring us.', \"ryan' bar definit one edinburgh establish revisiting.\", \"nicest chines restaur i'v while.\", 'overall, like food service.', 'also serv indian naan bread hummu spici pine nut sauc world.', 'probabl never come back, recommend it.', \"friend' pasta -- also bad, bare touch it.\", 'tri airport experi tasti food speedy, friendli service.', 'love decor chines calligraphi wall paper.', 'never anyth complain here.', 'restaur clean famili restaur feel it.', 'way fried.', \"i'm not sure long stood long enough begin feel awkwardli place.\", 'open sandwich, impressed, not good way.', 'not back!', 'warm feel servic felt like guest special treat.', 'extens menu provid lot option breakfast.', 'alway order vegetarian menu dinner, wide array option choos from.', 'watch price inflate, portion get smaller manag attitud grow rapidly!', 'wonder lil tapa ambienc made feel warm fuzzi inside.', 'got enjoy seafood salad, fabul vinegrette.', 'wonton thin, not thick chewy, almost melt mouth.', 'level 5 spici perfect, spice over-whelm soup.', 'sat right time server get go fantastic!', 'main thing enjoy crowd older crowd, around mid 30 up.', \"i'm side town, definit spot i'll hit again!\", 'wait 30 minut get drink longer get 2 arepas.', 'great place eat!', 'jalapeno bacon soooo good.', 'servic poor that nice.', 'food good, servic good, price good.', 'place not clean food oh stale!', 'chicken dish ok, beef like shoe leather.', 'servic beyond bad.', 'i\\'m happi here!!!\"', 'tast like dirt.', 'one place phoenix would defin go back .', 'block amazing.', 'close house, low-key, non-fancy, afford prices, good food.', '* hot & sour & egg flower soup absolut 5 stars!', 'sashimi poor qualiti soggi tasteless.', 'great time - famili dinner sunday night.', 'food not tasti all, not say \"real tradit hunan style\".', 'bother me, slow service.', 'flair bartend absolut amazing!', 'frozen margarita way sugari taste.', 'good order twice.', 'nutshell: 1) restaraunt smell like combin dirti fish market sewer.', \"girlfriend' veal bad.\", 'unfortunately, not good.', 'pretti satifi experience.', 'join club get awesom offer via email.', 'perfect someon (me) like beer ice cold, case, even colder.', 'bland flavorless good way describ bare tepid meat.', \"chains, i'm fan of, beat place easily.\", 'nacho must have!', 'not come back.', 'mani word say place, everyth pretti well.', 'staff super nice quick even crazi crowd downtown juries, lawyers, court staff.', 'great atmosphere, friendli fast service.', 'receiv pita huge lot meat thumb there.', 'food arriv meh.', \"pay $7.85 hot dog fri look like came kid' meal wienerschnitzel not idea good meal.\", 'classic main lobster roll fantastic.', 'brother law work mall ate day, guess sick night too.', 'good go review place twice - herea tribut place tribut event held last night.', 'chip salsa realli good, salsa fresh.', 'place great!!!!!!!!!!!!!!', 'mediocr food.', 'get insid impress place.', \"i'm super pissd.\", 'servic super friendly.', 'sad littl veget overcooked?', 'place nice surprise!', 'golden-crispi delicious.', 'high hope place sinc burger cook charcoal grill, unfortun tast fell flat, way flat.', 'could eat bruschetta day devine.', 'not singl employe came see ok even need water refil final serv us food.', 'lastly, mozzarella sticks, best thing ordered.', 'first time ever came amaz experience, still tell peopl awesom duck was.', 'server neglig need made us feel unwelcome... would not suggest place!', 'servic terribl though.', 'place overpriced, not consist boba, realli overpriced!', 'packed!!', 'love place.', 'say dessert yummy.', 'food terrible.', 'season fruit fresh white peach puree.', \"kept get wors wors i'm offici done.\", 'place honestli blown up.', 'definit would not eat again.', 'not wast money here!', 'love put food nice plastic contain oppos cram littl paper takeout boxes.', 'crêpe delic thin moist.', 'aw service.', 'ever go again.', 'food qualiti horrible.', 'price think place would much rather gone.', 'servic fair best.', 'love sushi, found kabuki over-priced, over-hip under-services.', 'favor stay away dish.', 'poor service.', 'one tabl thought food averag worth wait it.', 'best servic food ever, maria server good friendli made day.', 'excellent.', 'paid bill not tip felt server terribl job.', 'lunch great experience.', 'never bland food surpris consid articl read focus much spice flavor.', 'food way overpr portion fuck small.', \"recent tri caballero' back everi week since!\", '40 buck head, realli expect better food.', 'food came good pace.', 'ate twice last visit, especi enjoy salmon salad.', 'back.', 'could not believ dirti oyster were!', 'place deserv stars.', 'would not recommend place.', \"fact i'm go round 4 stars, awesome.\", 'disbelief, dish qualifi worst version food ever tasted.', 'bad day not, low toler rude custom servic people, job nice polite, wash dish otherwise!!', 'potato great biscuit.', 'probabl would not go again.', 'flavor perfect amount heat.', 'price reason servic great.', 'wife hate meal (coconut shrimp), friend realli not enjoy meals, either.', 'fella got huevo ranchero look appealing.', 'went happi hour, great list wines.', 'may say buffet pricey think get pay place get quit lot!', 'probabl come back here.', \"worst food/servic i'v while.\", 'place pretti good, nice littl vibe restaurant.', 'talk great custom servic cours back.', 'hot dish not hot, cold dish close room temp.i watch staff prepar food bare hands, gloves.everyth deep fri oil.', 'love fri beans.', 'alway pleasur deal him.', \"plethora salad sandwiches, everyth i'v tri get seal approval.\", 'place awesom want someth light healthi summer.', 'sushi strip, place go.', 'servic great, even manag came help table.', 'feel dine room colleg cook cours high class dine servic slow best.', \"start review two stars, i'm edit give one.\", \"worst sushi ever eat besid costco's.\", 'excel restaur highlight great service, uniqu menu, beauti setting.', 'boyfriend sat bar complet delight experience.', 'weird vibe owners.', 'hardli meat.', \"i'v better bagel groceri store.\", 'go place gyros.', 'love owner/chef, one authent japanes cool dude!', 'burger good, pizza use amaz doughi flavorless.', 'found six inch long piec wire salsa.', 'servic terrible, food mediocre.', 'defin enjoy ourselves.', 'order albondiga soup - warm - tast like tomato soup frozen meatballs.', 'three differ occas ask well done medium well, three time got bloodiest piec meat plate.', 'two bite refus eat anymore.', 'servic extrem slow.', '20 minut wait, got table.', 'serious killer hot chai latte.', 'allergi warn menu, waitress absolut clue meal not contain peanuts.', 'boyfriend tri mediterranean chicken salad fell love.', 'rotat beer tap also highlight place.', 'price bit concern mellow mushroom.', 'worst thai ever.', 'stay vega must get breakfast least once.', 'want first say server great perfect service.', 'pizza select good.', 'strawberri tea, good.', 'highli unprofession rude loyal patron!', 'overall, great experience.', 'spend money elsewhere.', 'regular toast bread equal satisfi occasion pat butter... mmmm...!', 'buffet bellagio far anticipated.', 'drink weak, people!', '-mi order not correct.', 'also, feel like chip bought, not made house.', 'disappoint dinner went elsewher dessert.', 'chip sal amazing!!!!!!!!!!!!!!!!!!!', 'returning.', 'new fav vega buffet spot.', 'serious cannot believ owner mani unexperienc employe run around like chicken head cut off.', 'very, sad.', 'felt insult disrespected, could talk judg anoth human like that?', \"call steakhous can't properli cook steak, understand!\", \"i'm not impress concept food.\", 'thing crazi guacamol like puréed.', 'realli noth postinos, hope experi better', 'got food poison buffet.', 'brought fresh batch fri think yay someth warm no!', 'hilarious, yummi christma eve dinner rememb biggest fail entir trip us.', 'needless say, go back anytim soon.', 'place disgusting!', 'everi time eat here, see care teamwork profession degree.', 'ri style calamari joke.', 'however, much garlic fondue, bare edible.', 'could bare stomach meal, complain busi lunch.', 'bad, lost heart finish it.', 'also took forev bring us check ask it.', 'one make scene restaur get it...definit lost love one!', 'disappoint experience.', \"food par denny's, say, not good all.\", 'want wait mediocr food downright terribl service, place you.', 'waaaaaayyyyyyyyyi rate saying.', 'go back.', 'place fairli clean food simpli worth it.', 'place lack style!!', 'sangria half glass wine full $12, ridiculous.', 'bother come here.', 'meat pretti dry, slice brisket pull pork.', 'build seem pretti neat, bathroom pretti trippy, eat again.', 'equal awful.', 'probabl not hurri go back.', 'slow seat even reservation.', 'not good stretch imagination.', 'cashew cream sauc bland veget undercooked.', 'chipolt ranch dip saus tasteless, seem thin water heat.', 'bit sweet, not realli spici enough, lack flavor.', 'disappointed!!', 'place horribl way overpriced.', \"mayb vegetarian fare, i'v twice thought averag best.\", 'busi know why.', 'tabl outsid also dirti lot time worker not alway friendli help menu.', 'ambianc not feel like buffet setting, douchey indoor garden tea biscuits.', 'con: spotti service.', 'fri not hot, neither burger.', 'came back cold.', 'food came out, disappoint ensued.', 'real disappoint waiter.', 'husband said rude... not even apolog bad food anything.', 'reason eat would fill night bing drink get carb stomach.', 'insults, profound deuchebaggery, go outsid smoke break serv solidifi it.', \"someon order two taco don't' think may part custom servic ask combo ala cart?\", 'quit disappoint although blame need place door.', 'rave review wait eat here......what disappointment!', 'del taco pretti nasti avoid possible.', 'not hard make decent hamburger.', 'like it.', 'hell go back', \"we'v gotten much better servic pizza place next door servic receiv restaurant.\", 'know big deal place, back \"ya\\'all\".', 'immedi said want talk manag not want talk guy shot firebal behind bar.', 'ambianc much better.', 'unfortunately, set us disapppoint entrees.', 'food good.', 'server suck, wait, correction, server heimer sucked.', 'happen next pretty....off putting.', 'bad caus know famili owned, realli want like place.', 'overpr getting.', 'vomit bathroom mid lunch.', 'kept look time soon becom 35 minutes, yet still food.', 'place eat circumst would ever return to, top list.', 'start tuna sashimi brownish color obvious fresh.', 'food average.', 'sure beat nacho movi would expect littl bit come restaurant.', 'all, ha long bay bit flop.', 'problem charg $11.99 sandwich bigger subway sub (which offer better amount vegetables).', 'shrimp- unwrap (i live 1/2 mile brushfire) liter ice cold.', 'lack flavor, seem undercooked, dry.', 'realli impress place close down.', 'would avoid place stay mirage.', 'refri bean came meal dri crusti food bland.', 'spend money time place else.', 'ladi tabl next us found live green caterpillar salad.', 'present food awful.', \"can't tell disappoint was.\", 'think food flavor textur lacking.', 'appetit instantli gone.', 'overal not impress would not go back.', \"whole experi underwhelming, think we'll go ninja sushi next time.\", 'then, wast enough life there, pour salt wound draw time took bring check.']\n"
          ]
        }
      ]
    },
    {
      "cell_type": "markdown",
      "source": [
        "# **<font color='orange'><b>Creating the Bag of Words Model -</b></font>**\n"
      ],
      "metadata": {
        "id": "dFudn_Jvxq8B"
      }
    },
    {
      "cell_type": "code",
      "source": [
        "from sklearn.feature_extraction.text import CountVectorizer\n",
        "cv = CountVectorizer(max_features = 1500)\n",
        "X = cv.fit_transform(corpus).toarray()\n",
        "y = data.iloc[:,-1].values"
      ],
      "metadata": {
        "id": "8B-atLgUxNlX"
      },
      "execution_count": 68,
      "outputs": []
    },
    {
      "cell_type": "code",
      "source": [
        "len(X[0])"
      ],
      "metadata": {
        "colab": {
          "base_uri": "https://localhost:8080/"
        },
        "id": "AOAT_BlyvRyS",
        "outputId": "c8b46d59-605a-4103-d19c-a437dd538daa"
      },
      "execution_count": 69,
      "outputs": [
        {
          "output_type": "execute_result",
          "data": {
            "text/plain": [
              "1500"
            ]
          },
          "metadata": {},
          "execution_count": 69
        }
      ]
    },
    {
      "cell_type": "markdown",
      "source": [
        "# **<font color='orange'><b>Spliting the dataset on the training set or test set -</b></font>**\n"
      ],
      "metadata": {
        "id": "NvtF--OP5L3n"
      }
    },
    {
      "cell_type": "code",
      "source": [
        "from sklearn.model_selection import train_test_split\n",
        "X_train,X_test,y_train,y_test = train_test_split(X,y,test_size = 0.20,random_state = 0)"
      ],
      "metadata": {
        "id": "luGepclD3wK9"
      },
      "execution_count": 70,
      "outputs": []
    },
    {
      "cell_type": "markdown",
      "source": [
        "# **<font color='orange'><b>Training teh Naive Bayes model on the Training set-</b></font>**\n"
      ],
      "metadata": {
        "id": "jNcTYBMv5lTe"
      }
    },
    {
      "cell_type": "code",
      "source": [
        "from sklearn.naive_bayes import GaussianNB\n",
        "classifier = GaussianNB()\n",
        "classifier.fit(X_train,y_train)"
      ],
      "metadata": {
        "colab": {
          "base_uri": "https://localhost:8080/",
          "height": 75
        },
        "id": "HTN5PvX25ivG",
        "outputId": "36db5d60-27ad-483f-cd04-d8b4e6f76737"
      },
      "execution_count": 71,
      "outputs": [
        {
          "output_type": "execute_result",
          "data": {
            "text/plain": [
              "GaussianNB()"
            ],
            "text/html": [
              "<style>#sk-container-id-3 {color: black;background-color: white;}#sk-container-id-3 pre{padding: 0;}#sk-container-id-3 div.sk-toggleable {background-color: white;}#sk-container-id-3 label.sk-toggleable__label {cursor: pointer;display: block;width: 100%;margin-bottom: 0;padding: 0.3em;box-sizing: border-box;text-align: center;}#sk-container-id-3 label.sk-toggleable__label-arrow:before {content: \"▸\";float: left;margin-right: 0.25em;color: #696969;}#sk-container-id-3 label.sk-toggleable__label-arrow:hover:before {color: black;}#sk-container-id-3 div.sk-estimator:hover label.sk-toggleable__label-arrow:before {color: black;}#sk-container-id-3 div.sk-toggleable__content {max-height: 0;max-width: 0;overflow: hidden;text-align: left;background-color: #f0f8ff;}#sk-container-id-3 div.sk-toggleable__content pre {margin: 0.2em;color: black;border-radius: 0.25em;background-color: #f0f8ff;}#sk-container-id-3 input.sk-toggleable__control:checked~div.sk-toggleable__content {max-height: 200px;max-width: 100%;overflow: auto;}#sk-container-id-3 input.sk-toggleable__control:checked~label.sk-toggleable__label-arrow:before {content: \"▾\";}#sk-container-id-3 div.sk-estimator input.sk-toggleable__control:checked~label.sk-toggleable__label {background-color: #d4ebff;}#sk-container-id-3 div.sk-label input.sk-toggleable__control:checked~label.sk-toggleable__label {background-color: #d4ebff;}#sk-container-id-3 input.sk-hidden--visually {border: 0;clip: rect(1px 1px 1px 1px);clip: rect(1px, 1px, 1px, 1px);height: 1px;margin: -1px;overflow: hidden;padding: 0;position: absolute;width: 1px;}#sk-container-id-3 div.sk-estimator {font-family: monospace;background-color: #f0f8ff;border: 1px dotted black;border-radius: 0.25em;box-sizing: border-box;margin-bottom: 0.5em;}#sk-container-id-3 div.sk-estimator:hover {background-color: #d4ebff;}#sk-container-id-3 div.sk-parallel-item::after {content: \"\";width: 100%;border-bottom: 1px solid gray;flex-grow: 1;}#sk-container-id-3 div.sk-label:hover label.sk-toggleable__label {background-color: #d4ebff;}#sk-container-id-3 div.sk-serial::before {content: \"\";position: absolute;border-left: 1px solid gray;box-sizing: border-box;top: 0;bottom: 0;left: 50%;z-index: 0;}#sk-container-id-3 div.sk-serial {display: flex;flex-direction: column;align-items: center;background-color: white;padding-right: 0.2em;padding-left: 0.2em;position: relative;}#sk-container-id-3 div.sk-item {position: relative;z-index: 1;}#sk-container-id-3 div.sk-parallel {display: flex;align-items: stretch;justify-content: center;background-color: white;position: relative;}#sk-container-id-3 div.sk-item::before, #sk-container-id-3 div.sk-parallel-item::before {content: \"\";position: absolute;border-left: 1px solid gray;box-sizing: border-box;top: 0;bottom: 0;left: 50%;z-index: -1;}#sk-container-id-3 div.sk-parallel-item {display: flex;flex-direction: column;z-index: 1;position: relative;background-color: white;}#sk-container-id-3 div.sk-parallel-item:first-child::after {align-self: flex-end;width: 50%;}#sk-container-id-3 div.sk-parallel-item:last-child::after {align-self: flex-start;width: 50%;}#sk-container-id-3 div.sk-parallel-item:only-child::after {width: 0;}#sk-container-id-3 div.sk-dashed-wrapped {border: 1px dashed gray;margin: 0 0.4em 0.5em 0.4em;box-sizing: border-box;padding-bottom: 0.4em;background-color: white;}#sk-container-id-3 div.sk-label label {font-family: monospace;font-weight: bold;display: inline-block;line-height: 1.2em;}#sk-container-id-3 div.sk-label-container {text-align: center;}#sk-container-id-3 div.sk-container {/* jupyter's `normalize.less` sets `[hidden] { display: none; }` but bootstrap.min.css set `[hidden] { display: none !important; }` so we also need the `!important` here to be able to override the default hidden behavior on the sphinx rendered scikit-learn.org. See: https://github.com/scikit-learn/scikit-learn/issues/21755 */display: inline-block !important;position: relative;}#sk-container-id-3 div.sk-text-repr-fallback {display: none;}</style><div id=\"sk-container-id-3\" class=\"sk-top-container\"><div class=\"sk-text-repr-fallback\"><pre>GaussianNB()</pre><b>In a Jupyter environment, please rerun this cell to show the HTML representation or trust the notebook. <br />On GitHub, the HTML representation is unable to render, please try loading this page with nbviewer.org.</b></div><div class=\"sk-container\" hidden><div class=\"sk-item\"><div class=\"sk-estimator sk-toggleable\"><input class=\"sk-toggleable__control sk-hidden--visually\" id=\"sk-estimator-id-3\" type=\"checkbox\" checked><label for=\"sk-estimator-id-3\" class=\"sk-toggleable__label sk-toggleable__label-arrow\">GaussianNB</label><div class=\"sk-toggleable__content\"><pre>GaussianNB()</pre></div></div></div></div></div>"
            ]
          },
          "metadata": {},
          "execution_count": 71
        }
      ]
    },
    {
      "cell_type": "markdown",
      "source": [
        "# **<font color='orange'><b>Predicting the test set result-</b></font>**\n"
      ],
      "metadata": {
        "id": "iF0BA1OS6HdN"
      }
    },
    {
      "cell_type": "code",
      "source": [
        "y_pred = classifier.predict(X_test)\n",
        "print(np.concatenate((y_pred.reshape(len(y_pred),1), y_test.reshape(len(y_test),1)),1))"
      ],
      "metadata": {
        "colab": {
          "base_uri": "https://localhost:8080/"
        },
        "id": "pUI8Zn-h6LWe",
        "outputId": "4d431804-31a9-4148-cc57-2f3acd0cf1c5"
      },
      "execution_count": 72,
      "outputs": [
        {
          "output_type": "stream",
          "name": "stdout",
          "text": [
            "[[1 0]\n",
            " [1 0]\n",
            " [1 0]\n",
            " [0 0]\n",
            " [0 0]\n",
            " [1 0]\n",
            " [1 1]\n",
            " [0 0]\n",
            " [1 0]\n",
            " [1 1]\n",
            " [1 1]\n",
            " [1 1]\n",
            " [1 0]\n",
            " [1 1]\n",
            " [1 1]\n",
            " [1 1]\n",
            " [1 0]\n",
            " [1 0]\n",
            " [0 0]\n",
            " [1 1]\n",
            " [0 0]\n",
            " [0 1]\n",
            " [1 1]\n",
            " [1 0]\n",
            " [1 0]\n",
            " [0 1]\n",
            " [1 1]\n",
            " [1 1]\n",
            " [1 1]\n",
            " [0 0]\n",
            " [1 1]\n",
            " [1 1]\n",
            " [1 1]\n",
            " [1 1]\n",
            " [1 1]\n",
            " [0 0]\n",
            " [1 0]\n",
            " [1 0]\n",
            " [0 0]\n",
            " [1 1]\n",
            " [1 1]\n",
            " [1 0]\n",
            " [1 1]\n",
            " [0 0]\n",
            " [0 0]\n",
            " [0 0]\n",
            " [1 0]\n",
            " [1 0]\n",
            " [0 0]\n",
            " [0 0]\n",
            " [1 1]\n",
            " [1 1]\n",
            " [1 1]\n",
            " [1 1]\n",
            " [1 0]\n",
            " [0 0]\n",
            " [1 1]\n",
            " [1 1]\n",
            " [0 0]\n",
            " [1 1]\n",
            " [1 0]\n",
            " [0 0]\n",
            " [1 0]\n",
            " [1 0]\n",
            " [1 1]\n",
            " [0 0]\n",
            " [1 1]\n",
            " [1 1]\n",
            " [1 1]\n",
            " [1 0]\n",
            " [1 1]\n",
            " [1 1]\n",
            " [1 1]\n",
            " [1 1]\n",
            " [0 0]\n",
            " [1 0]\n",
            " [1 1]\n",
            " [0 1]\n",
            " [0 0]\n",
            " [1 1]\n",
            " [0 0]\n",
            " [1 1]\n",
            " [1 1]\n",
            " [1 0]\n",
            " [1 1]\n",
            " [1 1]\n",
            " [0 0]\n",
            " [0 0]\n",
            " [1 1]\n",
            " [1 0]\n",
            " [0 0]\n",
            " [1 1]\n",
            " [0 0]\n",
            " [0 0]\n",
            " [1 0]\n",
            " [1 1]\n",
            " [1 0]\n",
            " [1 1]\n",
            " [1 1]\n",
            " [1 0]\n",
            " [0 1]\n",
            " [1 1]\n",
            " [1 1]\n",
            " [1 0]\n",
            " [0 1]\n",
            " [1 0]\n",
            " [1 1]\n",
            " [1 1]\n",
            " [0 0]\n",
            " [1 1]\n",
            " [0 1]\n",
            " [1 1]\n",
            " [0 0]\n",
            " [1 0]\n",
            " [1 1]\n",
            " [0 0]\n",
            " [1 1]\n",
            " [1 1]\n",
            " [1 1]\n",
            " [1 1]\n",
            " [1 1]\n",
            " [1 0]\n",
            " [1 1]\n",
            " [1 0]\n",
            " [0 0]\n",
            " [0 0]\n",
            " [1 1]\n",
            " [1 0]\n",
            " [0 0]\n",
            " [1 1]\n",
            " [1 0]\n",
            " [1 1]\n",
            " [0 0]\n",
            " [0 0]\n",
            " [1 1]\n",
            " [1 1]\n",
            " [1 1]\n",
            " [1 1]\n",
            " [1 1]\n",
            " [1 0]\n",
            " [0 1]\n",
            " [1 1]\n",
            " [1 1]\n",
            " [0 0]\n",
            " [1 0]\n",
            " [1 0]\n",
            " [1 0]\n",
            " [1 1]\n",
            " [1 1]\n",
            " [1 1]\n",
            " [1 1]\n",
            " [0 1]\n",
            " [1 1]\n",
            " [1 1]\n",
            " [0 0]\n",
            " [0 0]\n",
            " [1 1]\n",
            " [1 1]\n",
            " [1 1]\n",
            " [1 0]\n",
            " [1 0]\n",
            " [0 0]\n",
            " [0 1]\n",
            " [1 1]\n",
            " [0 0]\n",
            " [0 0]\n",
            " [1 0]\n",
            " [0 0]\n",
            " [0 0]\n",
            " [0 1]\n",
            " [0 0]\n",
            " [1 1]\n",
            " [1 1]\n",
            " [0 0]\n",
            " [0 0]\n",
            " [1 1]\n",
            " [0 0]\n",
            " [1 1]\n",
            " [0 0]\n",
            " [0 1]\n",
            " [1 1]\n",
            " [0 0]\n",
            " [0 0]\n",
            " [1 0]\n",
            " [0 0]\n",
            " [1 1]\n",
            " [0 0]\n",
            " [1 1]\n",
            " [0 0]\n",
            " [1 1]\n",
            " [1 1]\n",
            " [0 0]\n",
            " [1 0]\n",
            " [1 0]\n",
            " [1 1]\n",
            " [1 0]\n",
            " [1 1]\n",
            " [1 1]\n",
            " [0 0]\n",
            " [1 1]]\n"
          ]
        }
      ]
    },
    {
      "cell_type": "markdown",
      "source": [
        "# **<font color='orange'><b>Making the confusion matrix -</b></font>**\n"
      ],
      "metadata": {
        "id": "-kmQBciM664_"
      }
    },
    {
      "cell_type": "code",
      "source": [
        "from sklearn.metrics import confusion_matrix,accuracy_score\n",
        "cm = confusion_matrix(y_test,y_pred)\n",
        "print(cm)\n",
        "accuracy_score(y_test,y_pred)"
      ],
      "metadata": {
        "colab": {
          "base_uri": "https://localhost:8080/"
        },
        "id": "r-tj5vGU6rxj",
        "outputId": "4e3c868c-1be1-4b94-b615-1644ded64dc9"
      },
      "execution_count": 73,
      "outputs": [
        {
          "output_type": "stream",
          "name": "stdout",
          "text": [
            "[[53 44]\n",
            " [11 92]]\n"
          ]
        },
        {
          "output_type": "execute_result",
          "data": {
            "text/plain": [
              "0.725"
            ]
          },
          "metadata": {},
          "execution_count": 73
        }
      ]
    },
    {
      "cell_type": "markdown",
      "source": [
        "**As in the result mentioned Here 53 means 53 correct prediction on the negative review and 92 correct prediction on the positive reviews**"
      ],
      "metadata": {
        "id": "cMVqGAtJ7vja"
      }
    }
  ]
}